{
 "cells": [
  {
   "cell_type": "code",
   "execution_count": 61,
   "id": "fdeaef80",
   "metadata": {},
   "outputs": [],
   "source": [
    "# Ontwikkeld door Ahmad Al Dibo\n",
    "# Ontwikkelde datum: 2025/08/09 augustus\n",
    "# Versie: 1.0"
   ]
  },
  {
   "cell_type": "code",
   "execution_count": null,
   "id": "5b831909",
   "metadata": {},
   "outputs": [],
   "source": [
    "from tensorflow.keras.preprocessing.text import Tokenizer # type: ignore\n",
    "from tensorflow.keras.preprocessing.sequence import pad_sequences # type: ignore\n",
    "from tensorflow.keras.utils import to_categorical # type: ignore\n",
    "from sklearn.model_selection import train_test_split\n",
    "import tqdm\n",
    "import numpy as np\n",
    "import random\n",
    "from tensorflow.keras.layers import Input, Embedding, LSTM, Dropout, Dense # type: ignore\n",
    "from tensorflow.keras.models import Model # type: ignore\n",
    "import matplotlib.pyplot as plt\n"
   ]
  },
  {
   "cell_type": "code",
   "execution_count": 37,
   "id": "d1c86dab",
   "metadata": {},
   "outputs": [],
   "source": [
    "directions = [\"boven\", \"beneden\", \"links\", \"rechts\"]\n",
    "directions2Engels = {\"boven\": \"up\", \"beneden\": \"down\", \"links\": \"left\", \"rechts\": \"right\"}\n",
    "word2int = {\"up\": 0, \"down\": 1, \"left\": 2, \"right\": 3}\n",
    "int2word = {v: k for k, v in word2int.items()}\n",
    "\n",
    "actions = [\"ga\", \"loop\", \"beweeg\", \"draai\", \"verplaats je\"]\n",
    "\n",
    "aantallen = [\"één\", \"twee\", \"drie\", \"vier\", \"vijf\"]\n",
    "aantal2int = {\"één\": 1, \"twee\": 2, \"drie\": 3, \"vier\": 4, \"vijf\": 5}\n",
    "\n",
    "sen_length = 100"
   ]
  },
  {
   "cell_type": "code",
   "execution_count": null,
   "id": "13831a76",
   "metadata": {},
   "outputs": [],
   "source": [
    "\n",
    "glove_6b = lambda dim: f\"data\\\\glove.6B\\\\glove.6B.{dim}d.txt\""
   ]
  },
  {
   "cell_type": "markdown",
   "id": "c4d1b783",
   "metadata": {},
   "source": [
    "### Laad Data of Data Maken"
   ]
  },
  {
   "cell_type": "code",
   "execution_count": 38,
   "id": "df237a3f",
   "metadata": {},
   "outputs": [
    {
     "name": "stderr",
     "output_type": "stream",
     "text": [
      "Creating Random Data with Steps: 100%|██████████| 15000/15000 [00:00<00:00, 307804.19it/s]\n"
     ]
    }
   ],
   "source": [
    "def load_data_with_steps(directions, directions2Engels, actions, aantallen, aantal2int):\n",
    "    dataset = []\n",
    "    labels_dir = []\n",
    "    labels_steps = []\n",
    "\n",
    "    for _ in tqdm.tqdm(range(15000), \"Creating Random Data with Steps\"): \n",
    "        action = random.choice(actions)\n",
    "        aantal = random.choice(aantallen)\n",
    "        direction = random.choice(directions)\n",
    "        sentence = f\"{action} {aantal} stappen naar {direction}\"\n",
    "        labels_dir.append(directions2Engels[direction])\n",
    "        labels_steps.append(aantal2int[aantal])\n",
    "        dataset.append(sentence)\n",
    "    \n",
    "    return dataset, labels_dir, labels_steps\n",
    "\n",
    "X, Y_dir, Y_steps = load_data_with_steps(directions, directions2Engels, actions, aantallen, aantal2int)\n"
   ]
  },
  {
   "cell_type": "code",
   "execution_count": 39,
   "id": "ddf91fa4",
   "metadata": {},
   "outputs": [],
   "source": [
    "tokenizer = Tokenizer()\n",
    "tokenizer.fit_on_texts(X)\n",
    "X_seq = tokenizer.texts_to_sequences(X)\n",
    "X_pad = pad_sequences(X_seq, maxlen=sen_length)"
   ]
  },
  {
   "cell_type": "code",
   "execution_count": 40,
   "id": "80fe8369",
   "metadata": {},
   "outputs": [],
   "source": [
    "# --- Labels omzetten ---\n",
    "Y_dir_int = [word2int[y] for y in Y_dir]\n",
    "Y_dir_onehot = to_categorical(Y_dir_int, num_classes=4)\n",
    "\n",
    "# aantal stappen van 1-5 => 0-4 indexeren voor one-hot\n",
    "Y_steps_int = [y-1 for y in Y_steps]\n",
    "Y_steps_onehot = to_categorical(Y_steps_int, num_classes=5)"
   ]
  },
  {
   "cell_type": "code",
   "execution_count": 41,
   "id": "b7f7a221",
   "metadata": {},
   "outputs": [
    {
     "name": "stdout",
     "output_type": "stream",
     "text": [
      "Train shape: (10500, 100) (10500, 4) (10500, 5)\n",
      "Test shape: (4500, 100) (4500, 4) (4500, 5)\n"
     ]
    }
   ],
   "source": [
    "Xtrain, Xtest, Ytrain_dir, Ytest_dir, Ytrain_steps, Ytest_steps = train_test_split(\n",
    "    X_pad, Y_dir_onehot, Y_steps_onehot, test_size=0.3, random_state=7)\n",
    "\n",
    "print(\"Train shape:\", Xtrain.shape, Ytrain_dir.shape, Ytrain_steps.shape)\n",
    "print(\"Test shape:\", Xtest.shape, Ytest_dir.shape, Ytest_steps.shape)"
   ]
  },
  {
   "cell_type": "code",
   "execution_count": null,
   "id": "e0deffc4",
   "metadata": {},
   "outputs": [
    {
     "name": "stderr",
     "output_type": "stream",
     "text": [
      "Reading the GloVe file: 400000it [00:19, 20120.71it/s]\n"
     ]
    }
   ],
   "source": [
    "def generate_embedding(tokenizer, dim):\n",
    "    embedding = {}\n",
    "    # Pas pad aan naar jouw locatie van glove bestand\n",
    "    with open(glove_6b(100), encoding=\"utf-8\") as file:\n",
    "        for line in tqdm.tqdm(file, \"Reading the GloVe file\"):\n",
    "            tokens = line.split()\n",
    "            word = tokens[0]\n",
    "            vector = np.array(tokens[1:], dtype=\"float32\")\n",
    "            embedding[word] = vector\n",
    "    \n",
    "    word_index = tokenizer.word_index\n",
    "    embedding_matrix = np.zeros((len(word_index) + 1, dim))\n",
    "    \n",
    "    for word, i in word_index.items():\n",
    "        vector = embedding.get(word)\n",
    "        if vector is not None:\n",
    "            embedding_matrix[i] = vector\n",
    "    \n",
    "    return embedding_matrix\n",
    "\n",
    "embedding_matrix = generate_embedding(tokenizer, 100)"
   ]
  },
  {
   "cell_type": "code",
   "execution_count": null,
   "id": "be40c1cb",
   "metadata": {},
   "outputs": [
    {
     "data": {
      "text/html": [
       "<pre style=\"white-space:pre;overflow-x:auto;line-height:normal;font-family:Menlo,'DejaVu Sans Mono',consolas,'Courier New',monospace\"><span style=\"font-weight: bold\">Model: \"functional_93\"</span>\n",
       "</pre>\n"
      ],
      "text/plain": [
       "\u001b[1mModel: \"functional_93\"\u001b[0m\n"
      ]
     },
     "metadata": {},
     "output_type": "display_data"
    },
    {
     "data": {
      "text/html": [
       "<pre style=\"white-space:pre;overflow-x:auto;line-height:normal;font-family:Menlo,'DejaVu Sans Mono',consolas,'Courier New',monospace\">┏━━━━━━━━━━━━━━━━━━━━━┳━━━━━━━━━━━━━━━━━━━┳━━━━━━━━━━━━┳━━━━━━━━━━━━━━━━━━━┓\n",
       "┃<span style=\"font-weight: bold\"> Layer (type)        </span>┃<span style=\"font-weight: bold\"> Output Shape      </span>┃<span style=\"font-weight: bold\">    Param # </span>┃<span style=\"font-weight: bold\"> Connected to      </span>┃\n",
       "┡━━━━━━━━━━━━━━━━━━━━━╇━━━━━━━━━━━━━━━━━━━╇━━━━━━━━━━━━╇━━━━━━━━━━━━━━━━━━━┩\n",
       "│ input_layer_1       │ (<span style=\"color: #00d7ff; text-decoration-color: #00d7ff\">None</span>, <span style=\"color: #00af00; text-decoration-color: #00af00\">100</span>)       │          <span style=\"color: #00af00; text-decoration-color: #00af00\">0</span> │ -                 │\n",
       "│ (<span style=\"color: #0087ff; text-decoration-color: #0087ff\">InputLayer</span>)        │                   │            │                   │\n",
       "├─────────────────────┼───────────────────┼────────────┼───────────────────┤\n",
       "│ embedding_1         │ (<span style=\"color: #00d7ff; text-decoration-color: #00d7ff\">None</span>, <span style=\"color: #00af00; text-decoration-color: #00af00\">100</span>, <span style=\"color: #00af00; text-decoration-color: #00af00\">100</span>)  │      <span style=\"color: #00af00; text-decoration-color: #00af00\">1,800</span> │ input_layer_1[<span style=\"color: #00af00; text-decoration-color: #00af00\">0</span>]… │\n",
       "│ (<span style=\"color: #0087ff; text-decoration-color: #0087ff\">Embedding</span>)         │                   │            │                   │\n",
       "├─────────────────────┼───────────────────┼────────────┼───────────────────┤\n",
       "│ lstm_1 (<span style=\"color: #0087ff; text-decoration-color: #0087ff\">LSTM</span>)       │ (<span style=\"color: #00d7ff; text-decoration-color: #00d7ff\">None</span>, <span style=\"color: #00af00; text-decoration-color: #00af00\">128</span>)       │    <span style=\"color: #00af00; text-decoration-color: #00af00\">117,248</span> │ embedding_1[<span style=\"color: #00af00; text-decoration-color: #00af00\">0</span>][<span style=\"color: #00af00; text-decoration-color: #00af00\">0</span>] │\n",
       "├─────────────────────┼───────────────────┼────────────┼───────────────────┤\n",
       "│ dropout_1 (<span style=\"color: #0087ff; text-decoration-color: #0087ff\">Dropout</span>) │ (<span style=\"color: #00d7ff; text-decoration-color: #00d7ff\">None</span>, <span style=\"color: #00af00; text-decoration-color: #00af00\">128</span>)       │          <span style=\"color: #00af00; text-decoration-color: #00af00\">0</span> │ lstm_1[<span style=\"color: #00af00; text-decoration-color: #00af00\">0</span>][<span style=\"color: #00af00; text-decoration-color: #00af00\">0</span>]      │\n",
       "├─────────────────────┼───────────────────┼────────────┼───────────────────┤\n",
       "│ direction_output    │ (<span style=\"color: #00d7ff; text-decoration-color: #00d7ff\">None</span>, <span style=\"color: #00af00; text-decoration-color: #00af00\">4</span>)         │        <span style=\"color: #00af00; text-decoration-color: #00af00\">516</span> │ dropout_1[<span style=\"color: #00af00; text-decoration-color: #00af00\">0</span>][<span style=\"color: #00af00; text-decoration-color: #00af00\">0</span>]   │\n",
       "│ (<span style=\"color: #0087ff; text-decoration-color: #0087ff\">Dense</span>)             │                   │            │                   │\n",
       "├─────────────────────┼───────────────────┼────────────┼───────────────────┤\n",
       "│ steps_output        │ (<span style=\"color: #00d7ff; text-decoration-color: #00d7ff\">None</span>, <span style=\"color: #00af00; text-decoration-color: #00af00\">5</span>)         │        <span style=\"color: #00af00; text-decoration-color: #00af00\">645</span> │ dropout_1[<span style=\"color: #00af00; text-decoration-color: #00af00\">0</span>][<span style=\"color: #00af00; text-decoration-color: #00af00\">0</span>]   │\n",
       "│ (<span style=\"color: #0087ff; text-decoration-color: #0087ff\">Dense</span>)             │                   │            │                   │\n",
       "└─────────────────────┴───────────────────┴────────────┴───────────────────┘\n",
       "</pre>\n"
      ],
      "text/plain": [
       "┏━━━━━━━━━━━━━━━━━━━━━┳━━━━━━━━━━━━━━━━━━━┳━━━━━━━━━━━━┳━━━━━━━━━━━━━━━━━━━┓\n",
       "┃\u001b[1m \u001b[0m\u001b[1mLayer (type)       \u001b[0m\u001b[1m \u001b[0m┃\u001b[1m \u001b[0m\u001b[1mOutput Shape     \u001b[0m\u001b[1m \u001b[0m┃\u001b[1m \u001b[0m\u001b[1m   Param #\u001b[0m\u001b[1m \u001b[0m┃\u001b[1m \u001b[0m\u001b[1mConnected to     \u001b[0m\u001b[1m \u001b[0m┃\n",
       "┡━━━━━━━━━━━━━━━━━━━━━╇━━━━━━━━━━━━━━━━━━━╇━━━━━━━━━━━━╇━━━━━━━━━━━━━━━━━━━┩\n",
       "│ input_layer_1       │ (\u001b[38;5;45mNone\u001b[0m, \u001b[38;5;34m100\u001b[0m)       │          \u001b[38;5;34m0\u001b[0m │ -                 │\n",
       "│ (\u001b[38;5;33mInputLayer\u001b[0m)        │                   │            │                   │\n",
       "├─────────────────────┼───────────────────┼────────────┼───────────────────┤\n",
       "│ embedding_1         │ (\u001b[38;5;45mNone\u001b[0m, \u001b[38;5;34m100\u001b[0m, \u001b[38;5;34m100\u001b[0m)  │      \u001b[38;5;34m1,800\u001b[0m │ input_layer_1[\u001b[38;5;34m0\u001b[0m]… │\n",
       "│ (\u001b[38;5;33mEmbedding\u001b[0m)         │                   │            │                   │\n",
       "├─────────────────────┼───────────────────┼────────────┼───────────────────┤\n",
       "│ lstm_1 (\u001b[38;5;33mLSTM\u001b[0m)       │ (\u001b[38;5;45mNone\u001b[0m, \u001b[38;5;34m128\u001b[0m)       │    \u001b[38;5;34m117,248\u001b[0m │ embedding_1[\u001b[38;5;34m0\u001b[0m][\u001b[38;5;34m0\u001b[0m] │\n",
       "├─────────────────────┼───────────────────┼────────────┼───────────────────┤\n",
       "│ dropout_1 (\u001b[38;5;33mDropout\u001b[0m) │ (\u001b[38;5;45mNone\u001b[0m, \u001b[38;5;34m128\u001b[0m)       │          \u001b[38;5;34m0\u001b[0m │ lstm_1[\u001b[38;5;34m0\u001b[0m][\u001b[38;5;34m0\u001b[0m]      │\n",
       "├─────────────────────┼───────────────────┼────────────┼───────────────────┤\n",
       "│ direction_output    │ (\u001b[38;5;45mNone\u001b[0m, \u001b[38;5;34m4\u001b[0m)         │        \u001b[38;5;34m516\u001b[0m │ dropout_1[\u001b[38;5;34m0\u001b[0m][\u001b[38;5;34m0\u001b[0m]   │\n",
       "│ (\u001b[38;5;33mDense\u001b[0m)             │                   │            │                   │\n",
       "├─────────────────────┼───────────────────┼────────────┼───────────────────┤\n",
       "│ steps_output        │ (\u001b[38;5;45mNone\u001b[0m, \u001b[38;5;34m5\u001b[0m)         │        \u001b[38;5;34m645\u001b[0m │ dropout_1[\u001b[38;5;34m0\u001b[0m][\u001b[38;5;34m0\u001b[0m]   │\n",
       "│ (\u001b[38;5;33mDense\u001b[0m)             │                   │            │                   │\n",
       "└─────────────────────┴───────────────────┴────────────┴───────────────────┘\n"
      ]
     },
     "metadata": {},
     "output_type": "display_data"
    },
    {
     "data": {
      "text/html": [
       "<pre style=\"white-space:pre;overflow-x:auto;line-height:normal;font-family:Menlo,'DejaVu Sans Mono',consolas,'Courier New',monospace\"><span style=\"font-weight: bold\"> Total params: </span><span style=\"color: #00af00; text-decoration-color: #00af00\">120,209</span> (469.57 KB)\n",
       "</pre>\n"
      ],
      "text/plain": [
       "\u001b[1m Total params: \u001b[0m\u001b[38;5;34m120,209\u001b[0m (469.57 KB)\n"
      ]
     },
     "metadata": {},
     "output_type": "display_data"
    },
    {
     "data": {
      "text/html": [
       "<pre style=\"white-space:pre;overflow-x:auto;line-height:normal;font-family:Menlo,'DejaVu Sans Mono',consolas,'Courier New',monospace\"><span style=\"font-weight: bold\"> Trainable params: </span><span style=\"color: #00af00; text-decoration-color: #00af00\">118,409</span> (462.54 KB)\n",
       "</pre>\n"
      ],
      "text/plain": [
       "\u001b[1m Trainable params: \u001b[0m\u001b[38;5;34m118,409\u001b[0m (462.54 KB)\n"
      ]
     },
     "metadata": {},
     "output_type": "display_data"
    },
    {
     "data": {
      "text/html": [
       "<pre style=\"white-space:pre;overflow-x:auto;line-height:normal;font-family:Menlo,'DejaVu Sans Mono',consolas,'Courier New',monospace\"><span style=\"font-weight: bold\"> Non-trainable params: </span><span style=\"color: #00af00; text-decoration-color: #00af00\">1,800</span> (7.03 KB)\n",
       "</pre>\n"
      ],
      "text/plain": [
       "\u001b[1m Non-trainable params: \u001b[0m\u001b[38;5;34m1,800\u001b[0m (7.03 KB)\n"
      ]
     },
     "metadata": {},
     "output_type": "display_data"
    }
   ],
   "source": [
    "# def build_one_output_model(embedding_matrix, lstm_units, sen_length):\n",
    "#     model = Sequential()\n",
    "#     model.add(Input(shape=(sen_length,)))  \n",
    "#     model.add(Embedding(input_dim=embedding_matrix.shape[0], \n",
    "#                         output_dim=embedding_matrix.shape[1], \n",
    "#                         weights=[embedding_matrix], \n",
    "#                         trainable=False))\n",
    "#     model.add(LSTM(lstm_units, recurrent_dropout=0.2))\n",
    "#     model.add(Dropout(0.3))\n",
    "#     model.add(Dense(4, activation=\"softmax\"))\n",
    "#     model.compile(optimizer=\"rmsprop\", loss=\"categorical_crossentropy\", metrics=['accuracy'])\n",
    "#     model.summary()\n",
    "#     return model\n",
    "\n",
    "#model = build_one_output_model(embedding_matrix, 128, 100)\n",
    "\n",
    "def build_multi_output_model(embedding_matrix, lstm_units, sen_length):\n",
    "    input_layer = Input(shape=(sen_length,))\n",
    "    embedding_layer = Embedding(input_dim=embedding_matrix.shape[0],\n",
    "                                output_dim=embedding_matrix.shape[1],\n",
    "                                weights=[embedding_matrix],\n",
    "                                trainable=False)(input_layer)\n",
    "    lstm_layer = LSTM(lstm_units, recurrent_dropout=0.2)(embedding_layer)\n",
    "    dropout_layer = Dropout(0.3)(lstm_layer)\n",
    "\n",
    "    output_direction = Dense(4, activation=\"softmax\", name=\"direction_output\")(dropout_layer)\n",
    "    output_steps = Dense(5, activation=\"softmax\", name=\"steps_output\")(dropout_layer)\n",
    "\n",
    "    model = Model(inputs=input_layer, outputs=[output_direction, output_steps])\n",
    "    model.compile(\n",
    "        optimizer=\"rmsprop\",\n",
    "        loss={\n",
    "            \"direction_output\": \"categorical_crossentropy\",\n",
    "            \"steps_output\": \"categorical_crossentropy\"\n",
    "        },\n",
    "        metrics={\n",
    "            \"direction_output\": \"accuracy\",\n",
    "            \"steps_output\": \"accuracy\"\n",
    "        }\n",
    "    )\n",
    "    model.summary()\n",
    "    return model\n",
    "\n",
    "model = build_multi_output_model(embedding_matrix, 128, sen_length)"
   ]
  },
  {
   "cell_type": "markdown",
   "id": "5b2b9d1c",
   "metadata": {},
   "source": [
    "### Build LSTM model:"
   ]
  },
  {
   "cell_type": "code",
   "execution_count": 46,
   "id": "c526e5ec",
   "metadata": {},
   "outputs": [
    {
     "name": "stdout",
     "output_type": "stream",
     "text": [
      "Epoch 1/10\n",
      "\u001b[1m165/165\u001b[0m \u001b[32m━━━━━━━━━━━━━━━━━━━━\u001b[0m\u001b[37m\u001b[0m \u001b[1m33s\u001b[0m 165ms/step - direction_output_accuracy: 0.9921 - direction_output_loss: 0.1227 - loss: 0.6129 - steps_output_accuracy: 0.7612 - steps_output_loss: 0.4898 - val_direction_output_accuracy: 1.0000 - val_direction_output_loss: 0.0014 - val_loss: 0.2810 - val_steps_output_accuracy: 0.8051 - val_steps_output_loss: 0.2811\n",
      "Epoch 2/10\n",
      "\u001b[1m165/165\u001b[0m \u001b[32m━━━━━━━━━━━━━━━━━━━━\u001b[0m\u001b[37m\u001b[0m \u001b[1m27s\u001b[0m 162ms/step - direction_output_accuracy: 1.0000 - direction_output_loss: 0.0013 - loss: 0.2965 - steps_output_accuracy: 0.7904 - steps_output_loss: 0.2946 - val_direction_output_accuracy: 1.0000 - val_direction_output_loss: 3.6166e-04 - val_loss: 0.2802 - val_steps_output_accuracy: 0.8000 - val_steps_output_loss: 0.2818\n",
      "Epoch 3/10\n",
      "\u001b[1m165/165\u001b[0m \u001b[32m━━━━━━━━━━━━━━━━━━━━\u001b[0m\u001b[37m\u001b[0m \u001b[1m26s\u001b[0m 157ms/step - direction_output_accuracy: 1.0000 - direction_output_loss: 6.1492e-04 - loss: 0.2895 - steps_output_accuracy: 0.8033 - steps_output_loss: 0.2878 - val_direction_output_accuracy: 1.0000 - val_direction_output_loss: 1.8130e-04 - val_loss: 0.2957 - val_steps_output_accuracy: 0.8013 - val_steps_output_loss: 0.2982\n",
      "Epoch 4/10\n",
      "\u001b[1m165/165\u001b[0m \u001b[32m━━━━━━━━━━━━━━━━━━━━\u001b[0m\u001b[37m\u001b[0m \u001b[1m30s\u001b[0m 179ms/step - direction_output_accuracy: 1.0000 - direction_output_loss: 4.0916e-04 - loss: 0.2882 - steps_output_accuracy: 0.7930 - steps_output_loss: 0.2892 - val_direction_output_accuracy: 1.0000 - val_direction_output_loss: 1.4670e-04 - val_loss: 0.2805 - val_steps_output_accuracy: 0.8007 - val_steps_output_loss: 0.2823\n",
      "Epoch 5/10\n",
      "\u001b[1m165/165\u001b[0m \u001b[32m━━━━━━━━━━━━━━━━━━━━\u001b[0m\u001b[37m\u001b[0m \u001b[1m32s\u001b[0m 193ms/step - direction_output_accuracy: 1.0000 - direction_output_loss: 3.3359e-04 - loss: 0.2865 - steps_output_accuracy: 0.7943 - steps_output_loss: 0.2857 - val_direction_output_accuracy: 1.0000 - val_direction_output_loss: 1.3298e-04 - val_loss: 0.2799 - val_steps_output_accuracy: 0.8004 - val_steps_output_loss: 0.2815\n",
      "Epoch 6/10\n",
      "\u001b[1m165/165\u001b[0m \u001b[32m━━━━━━━━━━━━━━━━━━━━\u001b[0m\u001b[37m\u001b[0m \u001b[1m25s\u001b[0m 154ms/step - direction_output_accuracy: 1.0000 - direction_output_loss: 2.4393e-04 - loss: 0.2851 - steps_output_accuracy: 0.7992 - steps_output_loss: 0.2849 - val_direction_output_accuracy: 1.0000 - val_direction_output_loss: 8.1410e-05 - val_loss: 0.2877 - val_steps_output_accuracy: 0.8013 - val_steps_output_loss: 0.2896\n",
      "Epoch 7/10\n",
      "\u001b[1m165/165\u001b[0m \u001b[32m━━━━━━━━━━━━━━━━━━━━\u001b[0m\u001b[37m\u001b[0m \u001b[1m26s\u001b[0m 159ms/step - direction_output_accuracy: 1.0000 - direction_output_loss: 1.8337e-04 - loss: 0.2855 - steps_output_accuracy: 0.7952 - steps_output_loss: 0.2866 - val_direction_output_accuracy: 1.0000 - val_direction_output_loss: 6.4987e-05 - val_loss: 0.2788 - val_steps_output_accuracy: 0.8013 - val_steps_output_loss: 0.2807\n",
      "Epoch 8/10\n",
      "\u001b[1m165/165\u001b[0m \u001b[32m━━━━━━━━━━━━━━━━━━━━\u001b[0m\u001b[37m\u001b[0m \u001b[1m26s\u001b[0m 154ms/step - direction_output_accuracy: 1.0000 - direction_output_loss: 1.7367e-04 - loss: 0.2845 - steps_output_accuracy: 0.8027 - steps_output_loss: 0.2854 - val_direction_output_accuracy: 1.0000 - val_direction_output_loss: 6.4485e-05 - val_loss: 0.2792 - val_steps_output_accuracy: 0.8004 - val_steps_output_loss: 0.2808\n",
      "Epoch 9/10\n",
      "\u001b[1m165/165\u001b[0m \u001b[32m━━━━━━━━━━━━━━━━━━━━\u001b[0m\u001b[37m\u001b[0m \u001b[1m26s\u001b[0m 159ms/step - direction_output_accuracy: 1.0000 - direction_output_loss: 1.7221e-04 - loss: 0.2850 - steps_output_accuracy: 0.7954 - steps_output_loss: 0.2860 - val_direction_output_accuracy: 1.0000 - val_direction_output_loss: 5.0462e-05 - val_loss: 0.2771 - val_steps_output_accuracy: 0.8038 - val_steps_output_loss: 0.2786\n",
      "Epoch 10/10\n",
      "\u001b[1m165/165\u001b[0m \u001b[32m━━━━━━━━━━━━━━━━━━━━\u001b[0m\u001b[37m\u001b[0m \u001b[1m26s\u001b[0m 160ms/step - direction_output_accuracy: 1.0000 - direction_output_loss: 1.3775e-04 - loss: 0.2847 - steps_output_accuracy: 0.7974 - steps_output_loss: 0.2850 - val_direction_output_accuracy: 1.0000 - val_direction_output_loss: 4.8479e-05 - val_loss: 0.2770 - val_steps_output_accuracy: 0.7973 - val_steps_output_loss: 0.2789\n"
     ]
    }
   ],
   "source": [
    "history = model.fit(Xtrain,\n",
    "                    {\"direction_output\": Ytrain_dir, \"steps_output\": Ytrain_steps},\n",
    "                    validation_data=(Xtest, {\"direction_output\": Ytest_dir, \"steps_output\": Ytest_steps}),\n",
    "                    batch_size=64,\n",
    "                    epochs=10)"
   ]
  },
  {
   "cell_type": "code",
   "execution_count": 47,
   "id": "11ec9007",
   "metadata": {},
   "outputs": [
    {
     "name": "stderr",
     "output_type": "stream",
     "text": [
      "WARNING:absl:You are saving your model as an HDF5 file via `model.save()` or `keras.saving.save_model(model)`. This file format is considered legacy. We recommend using instead the native Keras format, e.g. `model.save('my_model.keras')` or `keras.saving.save_model(model, 'my_model.keras')`. \n"
     ]
    }
   ],
   "source": [
    "model.save(\"multi_output_model.h5\")"
   ]
  },
  {
   "cell_type": "code",
   "execution_count": 48,
   "id": "c843c121",
   "metadata": {},
   "outputs": [
    {
     "data": {
      "image/png": "[encoded data removed]",
      "text/plain": [
       "<Figure size 1200x500 with 2 Axes>"
      ]
     },
     "metadata": {},
     "output_type": "display_data"
    }
   ],
   "source": [
    "plt.figure(figsize=(12,5))\n",
    "plt.subplot(1,2,1)\n",
    "plt.plot(history.history['direction_output_accuracy'], label='Direction Train Acc')\n",
    "plt.plot(history.history['val_direction_output_accuracy'], label='Direction Val Acc')\n",
    "plt.title('Accuracy Direction')\n",
    "plt.xlabel('Epochs')\n",
    "plt.ylabel('Accuracy')\n",
    "plt.legend()\n",
    "\n",
    "plt.subplot(1,2,2)\n",
    "plt.plot(history.history['steps_output_accuracy'], label='Steps Train Acc')\n",
    "plt.plot(history.history['val_steps_output_accuracy'], label='Steps Val Acc')\n",
    "plt.title('Accuracy Steps')\n",
    "plt.xlabel('Epochs')\n",
    "plt.ylabel('Accuracy')\n",
    "plt.legend()\n",
    "\n",
    "plt.show()"
   ]
  },
  {
   "cell_type": "code",
   "execution_count": 49,
   "id": "796889b6",
   "metadata": {},
   "outputs": [],
   "source": [
    "def prediction_multi(model, sms, tokenizer):\n",
    "    seq = tokenizer.texts_to_sequences([sms])\n",
    "    seq = pad_sequences(seq, maxlen=sen_length)\n",
    "    pred_dir, pred_steps = model.predict(seq)\n",
    "    pred_dir_index = np.argmax(pred_dir, axis=1)[0]\n",
    "    pred_steps_index = np.argmax(pred_steps, axis=1)[0]\n",
    "\n",
    "    direction = int2word[pred_dir_index]\n",
    "    steps = pred_steps_index + 1  # omdat index 0 = 1 stap\n",
    "\n",
    "    return direction, steps"
   ]
  },
  {
   "cell_type": "code",
   "execution_count": 51,
   "id": "8099f947",
   "metadata": {},
   "outputs": [],
   "source": [
    "import json\n",
    "\n",
    "\n",
    "report = history.history\n",
    "report.keys()\n",
    "with open(\"training_history_mulit_model_output.json\", \"w\") as f:\n",
    "    json.dump(history.history, f)\n",
    "\n",
    "import pickle\n",
    "with open('tokenizer_mulit_output_model.pkl', 'wb') as handle:\n",
    "    pickle.dump(tokenizer, handle, protocol=pickle.HIGHEST_PROTOCOL)"
   ]
  },
  {
   "cell_type": "code",
   "execution_count": null,
   "id": "b972696d",
   "metadata": {},
   "outputs": [
    {
     "name": "stdout",
     "output_type": "stream",
     "text": [
      "\u001b[1m1/1\u001b[0m \u001b[32m━━━━━━━━━━━━━━━━━━━━\u001b[0m\u001b[37m\u001b[0m \u001b[1m0s\u001b[0m 115ms/step\n",
      "Voorspelling: richting = down, stappen = 4\n"
     ]
    }
   ],
   "source": [
    "test_sentence = \"ga vier stappen naar beneden\"\n",
    "direction_pred, steps_pred = prediction_multi(model, test_sentence, tokenizer)\n",
    "print(f\"Voorspelling: richting = {direction_pred}, stappen = {steps_pred}\")\n",
    "# er kan een fout optreden als je (vijf) gebruikt!"
   ]
  }
 ],
 "metadata": {
  "kernelspec": {
   "display_name": "Python 3",
   "language": "python",
   "name": "python3"
  },
  "language_info": {
   "codemirror_mode": {
    "name": "ipython",
    "version": 3
   },
   "file_extension": ".py",
   "mimetype": "text/x-python",
   "name": "python",
   "nbconvert_exporter": "python",
   "pygments_lexer": "ipython3",
   "version": "3.11.4"
  }
 },
 "nbformat": 4,
 "nbformat_minor": 5
}
